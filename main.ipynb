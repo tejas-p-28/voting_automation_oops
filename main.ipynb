{
 "cells": [
  {
   "cell_type": "code",
   "execution_count": 1,
   "id": "ee45199f-a89f-472d-9bb9-86092bb2929d",
   "metadata": {},
   "outputs": [],
   "source": [
    "from database.database import Database\n",
    "from admin.admin import Admin\n",
    "from voter.voter import Voter\n",
    "import datetime"
   ]
  },
  {
   "cell_type": "code",
   "execution_count": 10,
   "id": "1b7bd587-d847-4e91-a903-cfbe9d95600a",
   "metadata": {},
   "outputs": [],
   "source": [
    "def header():\n",
    "    today = datetime.date.today()\n",
    "    year = today.year\n",
    "    print('-'*80)\n",
    "    print('MAHARASHTRA LEGISLATIVE ASSEMBLY ELECTION 2024'.center(80))\n",
    "    print('Conducted by State Election Comission'.center(80)) \n",
    "    print(str(year).center(80))\n",
    "    print('-'*80)\n",
    "def main():\n",
    "    db_name = 'voting_db.db'\n",
    "    db = Database(db_name)\n",
    "    db.create_tables()\n",
    "    admin = Admin(db_name)\n",
    "    voter = Voter(db_name)\n",
    "    admin.add_admin('tejas',123)\n",
    "    header()\n",
    "    max_retry = 3\n",
    "    for i in range(max_retry):\n",
    "        print('Press :')\n",
    "        print('\\n1. If you are ADMIN : \\n2. If you are VOTER : \\n3. to EXIT :')\n",
    "        ch = int(input('enter your choice : '))\n",
    "        if ch ==1 :\n",
    "            username = input('enter your username :')\n",
    "            password = int(input('enter your password :'))\n",
    "            if verify_admin_credentials:\n",
    "                admin_menu(admin)\n",
    "            else:\n",
    "                print('ERROR : Invalid Credentials')\n",
    "        elif ch ==2:\n",
    "            username = input('enter your username : ')\n",
    "            password = int(input('enter your password : '))\n",
    "            if verify_voter_credentials:\n",
    "                print('logged in as VOTER')\n",
    "                \n",
    "            else:\n",
    "                print('ERROR : Invalid Credentials')\n",
    "        elif ch == 3:\n",
    "            print('Thank you!\\nYou are exited')\n",
    "            return\n",
    "\n",
    "def verify_admin_credentials(self,username,password):\n",
    "    db_name ='voting_db.db'\n",
    "    db = Database(db_name)\n",
    "    db.db_cursor.execute('''select * from admin where username = ? and password = ?''',(username,password))\n",
    "    admin_data = db,db_cursor.fetchone()\n",
    "    if admin_data:\n",
    "        return True\n",
    "    else:\n",
    "        print('ERROR : No admin found with this details')\n",
    "        return False\n",
    "def verify_voter_credentials(self,username,password):\n",
    "    db_name ='voting_db.db'\n",
    "    db = Database(db_name)\n",
    "    db.db_cursor.execute('''select * from voter where username = ? and password = ?''',(username,password))\n",
    "    voter_data = db,db_cursor.fetchone()\n",
    "    if voter_data:\n",
    "        return True\n",
    "    else:\n",
    "        print('ERROR : No voter found with this details')\n",
    "        return False        \n",
    "def admin_menu(admin):\n",
    "    max_retry = 3\n",
    "    for i in range(max_retry):\n",
    "        print('Logged in as ADMIN')\n",
    "        print('\\n1. Conduct Election \\n2. Add voter \\n3. Update Voter')\n",
    "        ch = int(input('enter your choice : '))\n",
    "        if ch == 1:\n",
    "            print('election conducted')\n",
    "            constituency = input('enter your constituency name : ')\n",
    "            print('Please enter date of commencement : ')\n",
    "            month = input('enter your month')\n",
    "            day = input('enter your day')\n",
    "            print('Enter start time : ')\n",
    "            hour = input('enter hour : ')\n",
    "            minutes = input('enter minute : ')\n",
    "        elif ch == 2:\n",
    "            print('add voter')\n",
    "        elif ch == 3:\n",
    "            print('updated voter')\n",
    "        else:\n",
    "            print('ERROR : Invalid choice')\n",
    "            return"
   ]
  },
  {
   "cell_type": "code",
   "execution_count": null,
   "id": "02f8a475-cc4e-4b1c-a74d-a2f92698dd9c",
   "metadata": {},
   "outputs": [
    {
     "name": "stdout",
     "output_type": "stream",
     "text": [
      "--------------------------------------------------------------------------------\n",
      "                 MAHARASHTRA LEGISLATIVE ASSEMBLY ELECTION 2024                 \n",
      "                     Conducted by State Election Comission                      \n",
      "                                      2024                                      \n",
      "--------------------------------------------------------------------------------\n",
      "Press :\n",
      "\n",
      "1. If you are ADMIN : \n",
      "2. If you are VOTER : \n",
      "3. to EXIT :\n"
     ]
    },
    {
     "name": "stdin",
     "output_type": "stream",
     "text": [
      "enter your choice :  1\n",
      "enter your username : tejas\n",
      "enter your password : 123\n"
     ]
    },
    {
     "name": "stdout",
     "output_type": "stream",
     "text": [
      "logged in as ADMIN\n",
      "Logged in as ADMIN\n",
      "\n",
      "1. Conduct Eletion \n",
      "2. Add voter \n",
      "3. Update Voter\n"
     ]
    }
   ],
   "source": [
    "main()"
   ]
  },
  {
   "cell_type": "code",
   "execution_count": null,
   "id": "5cc80f4c-95df-47b2-a49b-89d519f55e44",
   "metadata": {},
   "outputs": [],
   "source": []
  }
 ],
 "metadata": {
  "kernelspec": {
   "display_name": "Python 3 (ipykernel)",
   "language": "python",
   "name": "python3"
  },
  "language_info": {
   "codemirror_mode": {
    "name": "ipython",
    "version": 3
   },
   "file_extension": ".py",
   "mimetype": "text/x-python",
   "name": "python",
   "nbconvert_exporter": "python",
   "pygments_lexer": "ipython3",
   "version": "3.12.2"
  }
 },
 "nbformat": 4,
 "nbformat_minor": 5
}
