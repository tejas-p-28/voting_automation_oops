{
 "cells": [
  {
   "cell_type": "code",
   "execution_count": 1,
   "id": "ee45199f-a89f-472d-9bb9-86092bb2929d",
   "metadata": {},
   "outputs": [],
   "source": [
    "from database.database import Database\n",
    "from admin.admin import Admin\n",
    "from voter.voter import Voter\n",
    "from datetime import datetime,timedelta"
   ]
  },
  {
   "cell_type": "code",
   "execution_count": 2,
   "id": "1b7bd587-d847-4e91-a903-cfbe9d95600a",
   "metadata": {},
   "outputs": [],
   "source": [
    "def header():\n",
    "    today = datetime.today()\n",
    "    year = today.year\n",
    "    print('-'*80)\n",
    "    print('MAHARASHTRA LEGISLATIVE ASSEMBLY ELECTION 2024'.center(80))\n",
    "    print('Conducted by State Election Comission'.center(80)) \n",
    "    print(str(year).center(80))\n",
    "    print('-'*80)\n",
    "def main():\n",
    "    db_name = 'voting_db.db'\n",
    "    db = Database(db_name)\n",
    "    db.create_tables()\n",
    "    admin = Admin(db_name)\n",
    "    voter = Voter(db_name)\n",
    "    admin.add_admin('tejas',123)\n",
    "    header()\n",
    "    max_retry = 3\n",
    "    for i in range(max_retry):\n",
    "        print('Press :')\n",
    "        print('\\n1. If you are ADMIN : \\n2. If you are VOTER : \\n3. to EXIT :')\n",
    "        ch = int(input('enter your choice : '))\n",
    "        if ch ==1 :\n",
    "            username = input('enter your username :')\n",
    "            password = int(input('enter your password :'))\n",
    "            if verify_admin_credentials:\n",
    "                admin_menu(admin)\n",
    "            else:\n",
    "                print('ERROR : Invalid Credentials')\n",
    "        elif ch ==2:\n",
    "            username = input('enter your username : ')\n",
    "            password = int(input('enter your password : '))\n",
    "            if verify_voter_credentials:\n",
    "                print('logged in as VOTER')\n",
    "                \n",
    "            else:\n",
    "                print('ERROR : Invalid Credentials')\n",
    "        elif ch == 3:\n",
    "            print('Thank you!\\nYou are exited')\n",
    "            return\n",
    "\n",
    "def verify_admin_credentials(self,username,password):\n",
    "    db_name ='voting_db.db'\n",
    "    db = Database(db_name)\n",
    "    db.db_cursor.execute('''select * from admin where username = ? and password = ?''',(username,password))\n",
    "    admin_data = db.db_cursor.fetchone()\n",
    "    if admin_data:\n",
    "        return True\n",
    "    else:\n",
    "        print('ERROR : No admin found with this details')\n",
    "        return False\n",
    "def verify_voter_credentials(self,username,password):\n",
    "    db_name ='voting_db.db'\n",
    "    db = Database(db_name)\n",
    "    db.db_cursor.execute('''select * from voter where username = ? and password = ?''',(username,password))\n",
    "    voter_data = db.db_cursor.fetchone()\n",
    "    if voter_data:\n",
    "        return True\n",
    "    else:\n",
    "        print('ERROR : No voter found with this details')\n",
    "        return False        \n",
    "def admin_menu(admin):\n",
    "    max_retry = 3\n",
    "    for i in range(max_retry):\n",
    "        print('Logged in as ADMIN')\n",
    "        print('\\n1. Conduct Election \\n2. Add voter \\n3. Update Voter')\n",
    "        ch = int(input('enter your choice : '))\n",
    "        if ch == 1:\n",
    "            max_retry = 3\n",
    "            for i in range(max_retry):\n",
    "                db_name ='voting_db.db'\n",
    "                db = Database(db_name)\n",
    "                print('Enter details to conduct election...')\n",
    "                global name\n",
    "                name = input('enter your constituency name : ')\n",
    "                db.db_cursor.execute('''select * from constituency where name LIKE ?''',[name])\n",
    "                if db.db_cursor.fetchone():\n",
    "                    print('Constituency Already Present')\n",
    "                else:\n",
    "                    admin.add_constituency(name)\n",
    "                    print('Please enter date of commencement : ')\n",
    "                    entire_date = input('enter the commencement date and time (DD-MM-YY HH:MM) : ')\n",
    "                    start_date = datetime.strptime(entire_date, '%d-%m-%y %H:%M')\n",
    "                    if start_date > datetime.now():\n",
    "                        end = int(input('enter date to end the election : '))\n",
    "                        ending_date = start_date + timedelta(days = end)\n",
    "                        print(f'election to end on {ending_date}')\n",
    "                        db_name ='voting_db.db'\n",
    "                        db = Database(db_name)\n",
    "                        admin.add_conduct_election(name,start_date,ending_date)\n",
    "                    else:\n",
    "                        print('ERROR : Please enter your date in future !!!!')\n",
    "                print('election details : ')\n",
    "                db.db_cursor.execute('select name from constituency')\n",
    "                constituency = db.db_cursor.fetchall()\n",
    "                for i in constituency:\n",
    "                    print(f'Constituency : {i[0]}')\n",
    "                db.db_cursor.execute('select start_date from conduct_election')\n",
    "                dates = db.db_cursor.fetchall()\n",
    "                for i in dates:\n",
    "                    print(f'From : {i[0]}')\n",
    "                db.db_cursor.execute('select end_date from conduct_election')\n",
    "                e_dates = db.db_cursor.fetchall()\n",
    "                for i in e_dates:\n",
    "                    print(f'To : {i[0]}')\n",
    "                print('Returning to MENU....')\n",
    "                break\n",
    "        elif ch == 2:\n",
    "            print('Please Enter Voter Details.....')\n",
    "            db_name ='voting_db.db'\n",
    "            db = Database(db_name)\n",
    "            voter_name = input('enter your full name : ')\n",
    "            if db.db_cursor.execute('''insert into voters (name) values (?)''',[voter_name]):\n",
    "                print('Name stored')\n",
    "            else:\n",
    "                print('ERROR : Name not stored')\n",
    "            print('press : ')\n",
    "            db.db_cursor.execute('select * from constituency')\n",
    "            const = db.db_cursor.fetchall()\n",
    "            for i in const:\n",
    "                print(f'{i[0]} for {i[1]}')\n",
    "                enter = int(input('enter choice for constituency : '))\n",
    "                db.db_cursor.execute('''select * from constituency''')\n",
    "                query = db.db_cursor.fetchall()\n",
    "                if enter in query[0]:\n",
    "                    \n",
    "                    print('constituency assigned')\n",
    "                    # db.db_cursor.execute('''insert into conduct_election (name) values (?)''',[name])\n",
    "                    d_o_b = input('enter your date of birth (dd-mm-yy) : ')\n",
    "                    db.db_cursor.execute('''insert into voters (date_of_birth) values (?)''',[d_o_b])\n",
    "                    \n",
    "                else:\n",
    "                    print('bye')\n",
    "            \n",
    "            db.dbc_in_file.commit()\n",
    "            constituency = db.db_cursor.execute('''select * from constituency''')\n",
    "            for i in constituency:\n",
    "                print(f'constituency : {i[1]}')\n",
    "        elif ch == 3:\n",
    "            print('update : ')\n",
    "            print(f'1 Name\\n2 Constituency \\n3 Date of Birth \\n4 Retrun to menu')\n",
    "            ch = int(input('enter your choice to update : '))\n",
    "            if ch == 1:\n",
    "                name = input('enter your name : ')\n",
    "                admin.update_name(name)\n",
    "                if admin.update_name(name):\n",
    "                    print('name updated')\n",
    "                else:\n",
    "                    print('not updated')\n",
    "            \n",
    "        elif ch == 4:\n",
    "            print('Logged Out!')\n",
    "            return\n",
    "        else:\n",
    "            print('ERROR : Invalid choice')\n",
    "            return"
   ]
  },
  {
   "cell_type": "code",
   "execution_count": null,
   "id": "02f8a475-cc4e-4b1c-a74d-a2f92698dd9c",
   "metadata": {},
   "outputs": [
    {
     "name": "stdout",
     "output_type": "stream",
     "text": [
      "--------------------------------------------------------------------------------\n",
      "                 MAHARASHTRA LEGISLATIVE ASSEMBLY ELECTION 2024                 \n",
      "                     Conducted by State Election Comission                      \n",
      "                                      2024                                      \n",
      "--------------------------------------------------------------------------------\n",
      "Press :\n",
      "\n",
      "1. If you are ADMIN : \n",
      "2. If you are VOTER : \n",
      "3. to EXIT :\n"
     ]
    },
    {
     "name": "stdin",
     "output_type": "stream",
     "text": [
      "enter your choice :  1\n",
      "enter your username : tejas\n",
      "enter your password : 123\n"
     ]
    },
    {
     "name": "stdout",
     "output_type": "stream",
     "text": [
      "Logged in as ADMIN\n",
      "\n",
      "1. Conduct Election \n",
      "2. Add voter \n",
      "3. Update Voter\n"
     ]
    },
    {
     "name": "stdin",
     "output_type": "stream",
     "text": [
      "enter your choice :  3\n"
     ]
    },
    {
     "name": "stdout",
     "output_type": "stream",
     "text": [
      "update : \n",
      "1 Name\n",
      "2 Constituency \n",
      "3 Date of Birth \n",
      "4 Retrun to menu\n"
     ]
    },
    {
     "name": "stdin",
     "output_type": "stream",
     "text": [
      "enter your choice to update :  1\n",
      "enter your name :  Tej Patil\n"
     ]
    },
    {
     "name": "stdout",
     "output_type": "stream",
     "text": [
      "not updated\n",
      "Logged in as ADMIN\n",
      "\n",
      "1. Conduct Election \n",
      "2. Add voter \n",
      "3. Update Voter\n"
     ]
    }
   ],
   "source": [
    "main()"
   ]
  },
  {
   "cell_type": "code",
   "execution_count": 6,
   "id": "bd9e0341-b40b-42e2-9a88-e0e528c1d252",
   "metadata": {},
   "outputs": [],
   "source": [
    "db_name ='voting_db.db'\n",
    "db = Database(db_name)\n",
    "data = db.db_cursor.execute('drop table voters')\n"
   ]
  },
  {
   "cell_type": "code",
   "execution_count": 5,
   "id": "3a373937-893e-46e1-bb73-6667197c8c44",
   "metadata": {},
   "outputs": [
    {
     "name": "stdout",
     "output_type": "stream",
     "text": [
      "1 Pune\n"
     ]
    },
    {
     "name": "stdin",
     "output_type": "stream",
     "text": [
      " 1\n"
     ]
    },
    {
     "ename": "IndexError",
     "evalue": "list index out of range",
     "output_type": "error",
     "traceback": [
      "\u001b[1;31m---------------------------------------------------------------------------\u001b[0m",
      "\u001b[1;31mIndexError\u001b[0m                                Traceback (most recent call last)",
      "Cell \u001b[1;32mIn[5], line 10\u001b[0m\n\u001b[0;32m      8\u001b[0m db\u001b[38;5;241m.\u001b[39mdb_cursor\u001b[38;5;241m.\u001b[39mexecute(\u001b[38;5;124m'''\u001b[39m\u001b[38;5;124mselect * from voters\u001b[39m\u001b[38;5;124m'''\u001b[39m)\n\u001b[0;32m      9\u001b[0m query \u001b[38;5;241m=\u001b[39m db\u001b[38;5;241m.\u001b[39mdb_cursor\u001b[38;5;241m.\u001b[39mfetchall()\n\u001b[1;32m---> 10\u001b[0m \u001b[38;5;28;01mif\u001b[39;00m enter \u001b[38;5;129;01min\u001b[39;00m \u001b[43mquery\u001b[49m\u001b[43m[\u001b[49m\u001b[38;5;241;43m0\u001b[39;49m\u001b[43m]\u001b[49m:\n\u001b[0;32m     11\u001b[0m     \u001b[38;5;28mprint\u001b[39m(\u001b[38;5;124m'\u001b[39m\u001b[38;5;124mhello\u001b[39m\u001b[38;5;124m'\u001b[39m)\n\u001b[0;32m     12\u001b[0m \u001b[38;5;28;01melse\u001b[39;00m:\n",
      "\u001b[1;31mIndexError\u001b[0m: list index out of range"
     ]
    }
   ],
   "source": [
    "db_name ='voting_db.db'\n",
    "db = Database(db_name)\n",
    "db.db_cursor.execute('select * from constituency')\n",
    "const = db.db_cursor.fetchall()\n",
    "for i in const:\n",
    "    print(f'{i[0]} {i[1]}')\n",
    "    enter = int(input())\n",
    "    db.db_cursor.execute('''select * from voters''')\n",
    "    query = db.db_cursor.fetchall()\n",
    "    if enter in query[0]:\n",
    "        print('hello')\n",
    "    else:\n",
    "        print('bye')"
   ]
  },
  {
   "cell_type": "code",
   "execution_count": 4,
   "id": "e8df4f02-f290-4558-95b7-b190480157a5",
   "metadata": {},
   "outputs": [
    {
     "name": "stdout",
     "output_type": "stream",
     "text": [
      "{(1, 'Tej Patil', None, None)}\n",
      "{(2, 'Tej Patil', '28-04-02', None)}\n",
      "{(3, 'Tej Patil', None, None)}\n",
      "{(4, 'Tej Patil', '28-04-02', None)}\n",
      "{(5, 'Tej Patil', None, None)}\n",
      "{(6, 'Tej Patil', '28-04-02', None)}\n",
      "{(7, 'Tej Patil', None, None)}\n",
      "{(8, 'Tej Patil', '28-04-02', None)}\n",
      "{(9, 'Tej Patil', None, None)}\n",
      "{(10, 'Tej Patil', '28-04-02', None)}\n",
      "{(11, 'Tej Patil', None, None)}\n",
      "{(12, 'Tej Patil', '28-04-02', None)}\n",
      "{(13, 'Tej Patil', None, None)}\n",
      "{(14, 'Tej Patil', '29-04-02', None)}\n"
     ]
    }
   ],
   "source": [
    "db_name ='voting_db.db'\n",
    "db = Database(db_name)\n",
    "constituency = db.db_cursor.execute('''select * from voters''')\n",
    "for i in constituency:\n",
    "    print({i})"
   ]
  },
  {
   "cell_type": "code",
   "execution_count": null,
   "id": "73cdc5c4-bc47-4c18-bcec-508903c340f1",
   "metadata": {},
   "outputs": [],
   "source": []
  }
 ],
 "metadata": {
  "kernelspec": {
   "display_name": "Python 3 (ipykernel)",
   "language": "python",
   "name": "python3"
  },
  "language_info": {
   "codemirror_mode": {
    "name": "ipython",
    "version": 3
   },
   "file_extension": ".py",
   "mimetype": "text/x-python",
   "name": "python",
   "nbconvert_exporter": "python",
   "pygments_lexer": "ipython3",
   "version": "3.12.2"
  }
 },
 "nbformat": 4,
 "nbformat_minor": 5
}
