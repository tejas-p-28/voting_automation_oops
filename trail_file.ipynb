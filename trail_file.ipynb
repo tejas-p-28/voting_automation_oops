{
 "cells": [
  {
   "cell_type": "code",
   "execution_count": 17,
   "id": "5a5dcb1f-4b4a-4654-b8e2-4b0620d6ab59",
   "metadata": {},
   "outputs": [
    {
     "name": "stdin",
     "output_type": "stream",
     "text": [
      "enter the commencement date and time (DD-MM-YY HH:MM) :  29-09-24 06:00\n",
      "enter date to end the election :  30\n"
     ]
    },
    {
     "name": "stdout",
     "output_type": "stream",
     "text": [
      "election to end on 2024-10-29 06:00:00\n"
     ]
    }
   ],
   "source": [
    "from datetime import datetime,timedelta\n",
    "entire_date = input('enter the commencement date and time (DD-MM-YY HH:MM) : ')\n",
    "start_date = datetime.strptime(entire_date, '%d-%m-%y %H:%M')\n",
    "if start_date > datetime.now():\n",
    "    end = int(input('enter date to end the election : '))\n",
    "    ending_date = start_date + timedelta(days = end)\n",
    "    print(f'election to end on {ending_date}')\n"
   ]
  },
  {
   "cell_type": "code",
   "execution_count": 13,
   "id": "e15154cd-ea1c-4e93-ba59-0773fef8ff30",
   "metadata": {},
   "outputs": [
    {
     "ename": "AttributeError",
     "evalue": "'builtin_function_or_method' object has no attribute 'now'",
     "output_type": "error",
     "traceback": [
      "\u001b[1;31m---------------------------------------------------------------------------\u001b[0m",
      "\u001b[1;31mAttributeError\u001b[0m                            Traceback (most recent call last)",
      "Cell \u001b[1;32mIn[13], line 1\u001b[0m\n\u001b[1;32m----> 1\u001b[0m \u001b[43mdatetime\u001b[49m\u001b[38;5;241;43m.\u001b[39;49m\u001b[43mtoday\u001b[49m\u001b[38;5;241;43m.\u001b[39;49m\u001b[43mnow\u001b[49m()\n",
      "\u001b[1;31mAttributeError\u001b[0m: 'builtin_function_or_method' object has no attribute 'now'"
     ]
    }
   ],
   "source": [
    "datetime.today.now()"
   ]
  },
  {
   "cell_type": "code",
   "execution_count": null,
   "id": "3a9006a9-b859-4147-af13-d27726db63d6",
   "metadata": {},
   "outputs": [],
   "source": []
  }
 ],
 "metadata": {
  "kernelspec": {
   "display_name": "Python 3 (ipykernel)",
   "language": "python",
   "name": "python3"
  },
  "language_info": {
   "codemirror_mode": {
    "name": "ipython",
    "version": 3
   },
   "file_extension": ".py",
   "mimetype": "text/x-python",
   "name": "python",
   "nbconvert_exporter": "python",
   "pygments_lexer": "ipython3",
   "version": "3.12.2"
  }
 },
 "nbformat": 4,
 "nbformat_minor": 5
}
