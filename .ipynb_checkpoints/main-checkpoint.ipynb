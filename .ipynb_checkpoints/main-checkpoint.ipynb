{
 "cells": [
  {
   "cell_type": "code",
   "execution_count": 1,
   "id": "ee45199f-a89f-472d-9bb9-86092bb2929d",
   "metadata": {},
   "outputs": [],
   "source": [
    "from database.database import Database\n",
    "from admin.admin import Admin\n",
    "from voter.voter import Voter\n",
    "from datetime import datetime,timedelta"
   ]
  },
  {
   "cell_type": "code",
   "execution_count": 2,
   "id": "1b7bd587-d847-4e91-a903-cfbe9d95600a",
   "metadata": {},
   "outputs": [],
   "source": [
    "def header():\n",
    "    today = datetime.today()\n",
    "    year = today.year\n",
    "    print('-'*80)\n",
    "    print('MAHARASHTRA LEGISLATIVE ASSEMBLY ELECTION 2024'.center(80))\n",
    "    print('Conducted by State Election Comission'.center(80)) \n",
    "    print(str(year).center(80))\n",
    "    print('-'*80)\n",
    "def main():\n",
    "    db_name = 'voting_db.db'\n",
    "    db = Database(db_name)\n",
    "    db.create_tables()\n",
    "    admin = Admin(db_name)\n",
    "    voter = Voter(db_name)\n",
    "    admin.add_admin('tejas',123)\n",
    "    header()\n",
    "    max_retry = 3\n",
    "    for i in range(max_retry):\n",
    "        print('Press :')\n",
    "        print('\\n1. If you are ADMIN : \\n2. If you are VOTER : \\n3. to EXIT :')\n",
    "        ch = int(input('enter your choice : '))\n",
    "        if ch ==1 :\n",
    "            username = input('enter your username :')\n",
    "            password = int(input('enter your password :'))\n",
    "            if verify_admin_credentials:\n",
    "                admin_menu(admin)\n",
    "            else:\n",
    "                print('ERROR : Invalid Credentials')\n",
    "        elif ch ==2:\n",
    "            username = input('enter your username : ')\n",
    "            password = int(input('enter your password : '))\n",
    "            if verify_voter_credentials:\n",
    "                voter_menu(voter)\n",
    "                \n",
    "            else:\n",
    "                print('ERROR : Invalid Credentials')\n",
    "        elif ch == 3:\n",
    "            print('Thank you!\\nYou are exited')\n",
    "            return\n",
    "\n",
    "def verify_admin_credentials(self,username,password):\n",
    "    db_name ='voting_db.db'\n",
    "    db = Database(db_name)\n",
    "    db.db_cursor.execute('''select * from admin where username = ? and password = ?''',(username,password))\n",
    "    admin_data = db.db_cursor.fetchone()\n",
    "    if admin_data:\n",
    "        return True\n",
    "    else:\n",
    "        print('ERROR : No admin found with this details')\n",
    "        return False\n",
    "def verify_voter_credentials(self,username,password):\n",
    "    db_name ='voting_db.db'\n",
    "    db = Database(db_name)\n",
    "    db.db_cursor.execute('''select * from voter where username = ? and password = ?''',(username,password))\n",
    "    voter_data = db.db_cursor.fetchone()\n",
    "    if voter_data:\n",
    "        return True\n",
    "    else:\n",
    "        print('ERROR : No voter found with this details')\n",
    "        return False        \n",
    "def admin_menu(admin):\n",
    "    max_retry = 3\n",
    "    for i in range(max_retry):\n",
    "        print('Logged in as ADMIN')\n",
    "        print('\\n1. Conduct Election \\n2. Add voter \\n3. Update \\n4. Party \\n5. Candidate \\n6. Logged out as ADMIN')\n",
    "        ch = int(input('enter your choice : '))\n",
    "        if ch == 1:\n",
    "            max_retry = 3\n",
    "            for i in range(max_retry):\n",
    "                db_name ='voting_db.db'\n",
    "                db = Database(db_name)\n",
    "                print('Enter details to conduct election...')\n",
    "                global name\n",
    "                name = input('enter your constituency name : ')\n",
    "                db.db_cursor.execute('''select * from constituency where name LIKE ?''',[name])\n",
    "                if db.db_cursor.fetchone():\n",
    "                    print('Constituency Already Present')\n",
    "                else:\n",
    "                    admin.add_constituency(name)\n",
    "                    print('Please enter date of commencement : ')\n",
    "                    entire_date = input('enter the commencement date and time (DD-MM-YY HH:MM) : ')\n",
    "                    start_date = datetime.strptime(entire_date, '%d-%m-%y %H:%M')\n",
    "                    if start_date > datetime.now():\n",
    "                        end = int(input('enter date to end the election : '))\n",
    "                        ending_date = start_date + timedelta(days = end)\n",
    "                        print(f'election to end on {ending_date}')\n",
    "                        db_name ='voting_db.db'\n",
    "                        db = Database(db_name)\n",
    "                        admin.add_conduct_election(name,start_date,ending_date)\n",
    "                        print(f'ELECTION DETAILS.....\\nName : {name}\\nStart date : {start_date}\\nEnd date : {ending_date}')\n",
    "                        print(f'RETURNING TO MENU....')\n",
    "                    else:\n",
    "                        print('ERROR : Please enter your date in future !!!!')\n",
    "                break\n",
    "        elif ch == 2:\n",
    "            print('Please Enter Voter Details.....')\n",
    "            db_name ='voting_db.db'\n",
    "            db = Database(db_name)\n",
    "            voter_name = input('enter your full name : ')\n",
    "            \n",
    "            print('Name stored\\n\\n\\nPlease select constituency : \\n\\nPress : ')\n",
    "            db.db_cursor.execute('select id,name from constituency')\n",
    "            const_all = db.db_cursor.fetchall()\n",
    "            for i,j in const_all:\n",
    "                print(f'{i} for {j}')\n",
    "            # const = db.db_cursor.fetchall()\n",
    "            enter = int(input('enter choice for constituency : '))\n",
    "            db.db_cursor.execute('''select * from constituency where id = ?''',[enter])\n",
    "            if enter:\n",
    "                print('constituency assigned')\n",
    "                d_o_b = input('enter your date of birth (dd-mm-yy) : ')\n",
    "                db.db_cursor.execute('''insert into voters (name,date_of_birth,const_id) values (?,?,?)''',(voter_name,d_o_b,enter))\n",
    "                \n",
    "            else:\n",
    "                print('bye')\n",
    "            db.dbc_in_file.commit()\n",
    "        elif ch == 3:\n",
    "            db_name ='voting_db.db'\n",
    "            db = Database(db_name)\n",
    "            print('update value :')\n",
    "            db.db_cursor.execute('select * from voters')\n",
    "            names = db.db_cursor.fetchall()\n",
    "            column_names = [description[0] for description in db.db_cursor.description]\n",
    "            print(' | '.join(column_names))\n",
    "            print('1. Name\\n2. Date of birth\\n3. Constituency Id')\n",
    "            for name in names:\n",
    "                print(' | '.join(str(value) for value in name))\n",
    "            ch = int(input('enter your choice to update :'))\n",
    "            if ch == 1:\n",
    "                name = input('enter your name :')\n",
    "                updated_name = input('enter name to update :')\n",
    "                admin.update_name(updated_name,name)\n",
    "            elif ch == 2:\n",
    "                dob = input('enter your birth date :')\n",
    "                updated_dob = input('enter date of birth to be updated :')\n",
    "                admin.update_dob(dob,updated_dob)\n",
    "            elif ch == 3:\n",
    "                const_id = int(input('enter your constituency id :'))\n",
    "                updated_const_id = int(input('enter the id to be updated :'))\n",
    "                admin.update_const(const_id,updated_const_id)\n",
    "        elif ch == 4:\n",
    "            print('Party details :')\n",
    "            party_name = input('enter the name of party :')\n",
    "            print('party added !!')\n",
    "            admin.add_party(party_name)\n",
    "        elif ch == 5:\n",
    "            print('Candidate details :')\n",
    "            db_name ='voting_db.db'\n",
    "            db = Database(db_name)\n",
    "            db.db_cursor.execute('''select * from parties''')\n",
    "            parties = db.db_cursor.fetchall()\n",
    "            for ids,party in parties:\n",
    "                print(f'{ids}. {party}')\n",
    "            candidate_name = input('enter name of candidate :')\n",
    "            party_id = int(input('enter party id :'))\n",
    "            admin.add_candidate(candidate_name,party_id)\n",
    "        elif ch == 6:\n",
    "            print('Logged Out!')\n",
    "            return\n",
    "        else:\n",
    "            \n",
    "            print('ERROR : Invalid choice')\n",
    "            return\n",
    "def voter_menu(voter):\n",
    "    print('Press :\\n\\t1. Vote\\n\\t2.Get Poll Result \\n\\t3. Exit')\n",
    "    ch = int(input('enter your choice :'))\n",
    "    max_retry = 3:\n",
    "    for i in range(max_retry):\n",
    "        if ch == 1:\n",
    "            print('You can vote')\n",
    "            db_name ='voting_db.db'\n",
    "            db = Database(db_name)\n",
    "            voter_id = int(input('enter voter id :'))\n",
    "            candidate_id = int(input('enter candidate id :'))\n",
    "            voter.cast_vote(voter_id,candidate_id)\n",
    "            print('vote submitted successfully')\n",
    "            \n",
    "        elif ch == 2:\n",
    "            db_name ='voting_db.db'\n",
    "            db = Database(db_name)\n",
    "            print('Reusult to the poll is :')\n",
    "            db.db_cursor.execute('''select voted,const_name from voters''')\n",
    "            votes = db.db_cursor.fetchall()\n",
    "            for i,j in votes:\n",
    "                print(f'votes for constituency {j} is  {i}\\n\\nThank You!!')\n",
    "    "
   ]
  },
  {
   "cell_type": "code",
   "execution_count": null,
   "id": "53467c46-f890-47f5-85b2-bcc3c23ee547",
   "metadata": {},
   "outputs": [
    {
     "name": "stdout",
     "output_type": "stream",
     "text": [
      "--------------------------------------------------------------------------------\n",
      "                 MAHARASHTRA LEGISLATIVE ASSEMBLY ELECTION 2024                 \n",
      "                     Conducted by State Election Comission                      \n",
      "                                      2024                                      \n",
      "--------------------------------------------------------------------------------\n",
      "Press :\n",
      "\n",
      "1. If you are ADMIN : \n",
      "2. If you are VOTER : \n",
      "3. to EXIT :\n"
     ]
    },
    {
     "name": "stdin",
     "output_type": "stream",
     "text": [
      "enter your choice :  2\n",
      "enter your username :  tejas\n",
      "enter your password :  123\n"
     ]
    },
    {
     "name": "stdout",
     "output_type": "stream",
     "text": [
      "Press :\n",
      "\t1. Vote\n",
      "\t2.Get Poll Result \n",
      "\t3. Exit\n"
     ]
    },
    {
     "name": "stdin",
     "output_type": "stream",
     "text": [
      "enter your choice : 1\n"
     ]
    },
    {
     "name": "stdout",
     "output_type": "stream",
     "text": [
      "You can vote\n"
     ]
    },
    {
     "name": "stdin",
     "output_type": "stream",
     "text": [
      "enter voter id : 1\n",
      "enter candidate id : 1\n"
     ]
    },
    {
     "name": "stdout",
     "output_type": "stream",
     "text": [
      "vote submitted successfully\n",
      "Press :\n",
      "\n",
      "1. If you are ADMIN : \n",
      "2. If you are VOTER : \n",
      "3. to EXIT :\n"
     ]
    },
    {
     "name": "stdin",
     "output_type": "stream",
     "text": [
      "enter your choice :  2\n",
      "enter your username :  tejas\n",
      "enter your password :  123\n"
     ]
    },
    {
     "name": "stdout",
     "output_type": "stream",
     "text": [
      "Press :\n",
      "\t1. Vote\n",
      "\t2.Get Poll Result \n",
      "\t3. Exit\n"
     ]
    },
    {
     "name": "stdin",
     "output_type": "stream",
     "text": [
      "enter your choice : 2\n"
     ]
    },
    {
     "name": "stdout",
     "output_type": "stream",
     "text": [
      "Reusult to the poll is :\n",
      "votes for constituency NDA is  1\n",
      "votes for constituency NDA is  0\n",
      "Press :\n",
      "\n",
      "1. If you are ADMIN : \n",
      "2. If you are VOTER : \n",
      "3. to EXIT :\n"
     ]
    }
   ],
   "source": [
    "main()"
   ]
  },
  {
   "cell_type": "code",
   "execution_count": 2,
   "id": "42b8d3ba-881c-4c06-9546-2b19f574d0ee",
   "metadata": {},
   "outputs": [],
   "source": [
    "db_name ='voting_db.db'\n",
    "db = Database(db_name)\n",
    "data = db.db_cursor.execute('drop table votes')\n"
   ]
  },
  {
   "cell_type": "code",
   "execution_count": 12,
   "id": "e8df4f02-f290-4558-95b7-b190480157a5",
   "metadata": {},
   "outputs": [
    {
     "name": "stdout",
     "output_type": "stream",
     "text": [
      "1 for Pune\n",
      "2 for Shahada \n",
      "3 for Nandurbar\n",
      "4 for Pimpri \n",
      "5 for Shirdi\n"
     ]
    },
    {
     "name": "stdin",
     "output_type": "stream",
     "text": [
      "enter choice for constituency :  7\n"
     ]
    },
    {
     "name": "stdout",
     "output_type": "stream",
     "text": [
      "constituency assigned\n"
     ]
    }
   ],
   "source": [
    "db_name ='voting_db.db'\n",
    "db = Database(db_name)\n",
    "db.db_cursor.execute('select id,name from constituency')\n",
    "const_all = db.db_cursor.fetchall()\n",
    "for i,j in const_all:\n",
    "    print(f'{i} for {j}')\n",
    "# const = db.db_cursor.fetchall()\n",
    "enter = int(input('enter choice for constituency : '))\n",
    "enter1 = db.db_cursor.execute('''select * from constituency where id = ?''',[enter])\n",
    "if enter1:\n",
    "    print('constituency assigned')\n",
    "    # db.db_cursor.execute('''insert into conduct_election (name) values (?)''',[name])\n",
    "    # d_o_b = input('enter your date of birth (dd-mm-yy) : ')\n",
    "    # db.db_cursor.execute('''insert into voters (date_of_birth) values (?)''',[d_o_b])\n",
    "else:\n",
    "    print('bye')"
   ]
  },
  {
   "cell_type": "code",
   "execution_count": 2,
   "id": "73cdc5c4-bc47-4c18-bcec-508903c340f1",
   "metadata": {},
   "outputs": [
    {
     "name": "stdout",
     "output_type": "stream",
     "text": [
      "(1, 'Tejas Patil', '28-04-02', 0, 5)\n",
      "(2, 'Shivangi Bhosle', '12-05-02', 0, 2)\n"
     ]
    }
   ],
   "source": [
    "db_name ='voting_db.db'\n",
    "db = Database(db_name)\n",
    "db.db_cursor.execute('select * from voters')\n",
    "parties = db.db_cursor.fetchall()\n",
    "for i in parties:\n",
    "    print(f'{i}')"
   ]
  },
  {
   "cell_type": "code",
   "execution_count": null,
   "id": "0584d5c9-08d0-4cca-af5d-bd2574dc7311",
   "metadata": {},
   "outputs": [],
   "source": []
  }
 ],
 "metadata": {
  "kernelspec": {
   "display_name": "Python 3 (ipykernel)",
   "language": "python",
   "name": "python3"
  },
  "language_info": {
   "codemirror_mode": {
    "name": "ipython",
    "version": 3
   },
   "file_extension": ".py",
   "mimetype": "text/x-python",
   "name": "python",
   "nbconvert_exporter": "python",
   "pygments_lexer": "ipython3",
   "version": "3.12.2"
  }
 },
 "nbformat": 4,
 "nbformat_minor": 5
}
