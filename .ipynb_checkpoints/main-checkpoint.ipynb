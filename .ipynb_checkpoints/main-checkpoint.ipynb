{
 "cells": [
  {
   "cell_type": "code",
   "execution_count": 1,
   "id": "ee45199f-a89f-472d-9bb9-86092bb2929d",
   "metadata": {},
   "outputs": [],
   "source": [
    "from database.database import Database\n",
    "from admin.admin import Admin\n",
    "from voter.voter import Voter\n",
    "from datetime import datetime,timedelta"
   ]
  },
  {
   "cell_type": "code",
   "execution_count": 2,
   "id": "1b7bd587-d847-4e91-a903-cfbe9d95600a",
   "metadata": {},
   "outputs": [],
   "source": [
    "def header():\n",
    "    today = datetime.today()\n",
    "    year = today.year\n",
    "    print('-'*80)\n",
    "    print('MAHARASHTRA LEGISLATIVE ASSEMBLY ELECTION 2024'.center(80))\n",
    "    print('Conducted by State Election Comission'.center(80)) \n",
    "    print(str(year).center(80))\n",
    "    print('-'*80)\n",
    "def main():\n",
    "    db_name = 'voting_db.db'\n",
    "    db = Database(db_name)\n",
    "    db.create_tables()\n",
    "    admin = Admin(db_name)\n",
    "    voter = Voter(db_name)\n",
    "    admin.add_admin('tejas',123)\n",
    "    header()\n",
    "    max_retry = 3\n",
    "    for i in range(max_retry):\n",
    "        print('Press :')\n",
    "        print('\\n1. If you are ADMIN : \\n2. If you are VOTER : \\n3. to EXIT :')\n",
    "        ch = int(input('enter your choice : '))\n",
    "        if ch ==1 :\n",
    "            username = input('enter your username :')\n",
    "            password = int(input('enter your password :'))\n",
    "            if verify_admin_credentials:\n",
    "                admin_menu(admin)\n",
    "            else:\n",
    "                print('ERROR : Invalid Credentials')\n",
    "        elif ch ==2:\n",
    "            username = input('enter your username : ')\n",
    "            password = int(input('enter your password : '))\n",
    "            if verify_voter_credentials:\n",
    "                print('logged in as VOTER')\n",
    "                \n",
    "            else:\n",
    "                print('ERROR : Invalid Credentials')\n",
    "        elif ch == 3:\n",
    "            print('Thank you!\\nYou are exited')\n",
    "            return\n",
    "\n",
    "def verify_admin_credentials(self,username,password):\n",
    "    db_name ='voting_db.db'\n",
    "    db = Database(db_name)\n",
    "    db.db_cursor.execute('''select * from admin where username = ? and password = ?''',(username,password))\n",
    "    admin_data = db.db_cursor.fetchone()\n",
    "    if admin_data:\n",
    "        return True\n",
    "    else:\n",
    "        print('ERROR : No admin found with this details')\n",
    "        return False\n",
    "def verify_voter_credentials(self,username,password):\n",
    "    db_name ='voting_db.db'\n",
    "    db = Database(db_name)\n",
    "    db.db_cursor.execute('''select * from voter where username = ? and password = ?''',(username,password))\n",
    "    voter_data = db.db_cursor.fetchone()\n",
    "    if voter_data:\n",
    "        return True\n",
    "    else:\n",
    "        print('ERROR : No voter found with this details')\n",
    "        return False        \n",
    "def admin_menu(admin):\n",
    "    max_retry = 3\n",
    "    for i in range(max_retry):\n",
    "        print('Logged in as ADMIN')\n",
    "        print('\\n1. Conduct Election \\n2. Add voter \\n3. Update Voter')\n",
    "        ch = int(input('enter your choice : '))\n",
    "        if ch == 1:\n",
    "            max_retry = 3\n",
    "            for i in range(max_retry):\n",
    "                db_name ='voting_db.db'\n",
    "                db = Database(db_name)\n",
    "                print('Enter details to conduct election...')\n",
    "                name = input('enter your constituency name : ')\n",
    "                db.db_cursor.execute('''select * from constituency where name LIKE ?''',[name])\n",
    "                if db.db_cursor.fetchone():\n",
    "                    print('Constituency Already Present')\n",
    "                else:\n",
    "                    admin.add_constituency(name)\n",
    "                    print('Please enter date of commencement : ')\n",
    "                    entire_date = input('enter the commencement date and time (DD-MM-YY HH:MM) : ')\n",
    "                    start_date = datetime.strptime(entire_date, '%d-%m-%y %H:%M')\n",
    "                    if start_date > datetime.now():\n",
    "                        end = int(input('enter date to end the election : '))\n",
    "                        ending_date = start_date + timedelta(days = end)\n",
    "                        print(f'election to end on {ending_date}')\n",
    "                        db_name ='voting_db.db'\n",
    "                        db = Database(db_name)\n",
    "                        db.db_cursor.execute('''insert into conduct_election (start_date,end_date) values (?,?)''',(start_date,ending_date))\n",
    "                    else:\n",
    "                        print('ERROR : Please enter your date in future !!!!')\n",
    "                print('election details : ')\n",
    "                db.db_cursor.execute('select name from constituency')\n",
    "                constituency = db.db_cursor.fetchall()\n",
    "                for i in constituency:\n",
    "                    print(f'Constituency : {i[0]}')\n",
    "                db.db_cursor.execute('select start_date from conduct_election')\n",
    "                dates = db.db_cursor.fetchall()\n",
    "                for i in dates:\n",
    "                    print(f'From : {i[0]}')\n",
    "                db.db_cursor.execute('select end_date from conduct_election')\n",
    "                e_dates = db.db_cursor.fetchall()\n",
    "                for i in e_dates:\n",
    "                    print(f'From : {i[0]}')\n",
    "                print('Returning to MENU....')\n",
    "        elif ch == 2:\n",
    "            print('Please Enter Voter Details.....')\n",
    "            db_name ='voting_db.db'\n",
    "            db = Database(db_name)\n",
    "            voter_name = input('enter your full name : ')\n",
    "            if db.db_cursor.execute('''insert into voters (name) values (?)''',[voter_name]):\n",
    "                print('Name stored')\n",
    "            else:\n",
    "                print('ERROR : Name not stored')\n",
    "            db.db_cursor.execute('select * from constituency')\n",
    "            const = db.db_cursor.fetchall()\n",
    "            for i in const:\n",
    "            print(f'{i[0]} {i[1]}')\n",
    "            enter = int(input())\n",
    "            db.db_cursor.execute('''select * from constituency''')\n",
    "            query = db.db_cursor.fetchall()\n",
    "            if enter in query[0]:\n",
    "                print('hello')\n",
    "            else:\n",
    "                print('bye')\n",
    "            d_o_b = input('enter your date of birth (dd-mm-yy) : ')\n",
    "            db.db_cursor.execute('''insert into voters (date_of_birth) values (?)''',[d_o_b])\n",
    "            db.dbc_in_file.commit()\n",
    "            \n",
    "        elif ch == 3:\n",
    "            print('updated voter')\n",
    "        else:\n",
    "            print('ERROR : Invalid choice')\n",
    "            return"
   ]
  },
  {
   "cell_type": "code",
   "execution_count": 3,
   "id": "02f8a475-cc4e-4b1c-a74d-a2f92698dd9c",
   "metadata": {},
   "outputs": [
    {
     "name": "stdout",
     "output_type": "stream",
     "text": [
      "--------------------------------------------------------------------------------\n",
      "                 MAHARASHTRA LEGISLATIVE ASSEMBLY ELECTION 2024                 \n",
      "                     Conducted by State Election Comission                      \n",
      "                                      2024                                      \n",
      "--------------------------------------------------------------------------------\n",
      "Press :\n",
      "\n",
      "1. If you are ADMIN : \n",
      "2. If you are VOTER : \n",
      "3. to EXIT :\n"
     ]
    },
    {
     "name": "stdin",
     "output_type": "stream",
     "text": [
      "enter your choice :  1\n",
      "enter your username : tejas\n",
      "enter your password : 123\n"
     ]
    },
    {
     "name": "stdout",
     "output_type": "stream",
     "text": [
      "Logged in as ADMIN\n",
      "\n",
      "1. Conduct Election \n",
      "2. Add voter \n",
      "3. Update Voter\n"
     ]
    },
    {
     "name": "stdin",
     "output_type": "stream",
     "text": [
      "enter your choice :  2\n"
     ]
    },
    {
     "name": "stdout",
     "output_type": "stream",
     "text": [
      "Please Enter Voter Details.....\n"
     ]
    },
    {
     "name": "stdin",
     "output_type": "stream",
     "text": [
      "enter your full name :  Tejas Patil\n"
     ]
    },
    {
     "ename": "IntegrityError",
     "evalue": "NOT NULL constraint failed: voters.date_of_birth",
     "output_type": "error",
     "traceback": [
      "\u001b[1;31m---------------------------------------------------------------------------\u001b[0m",
      "\u001b[1;31mIntegrityError\u001b[0m                            Traceback (most recent call last)",
      "Cell \u001b[1;32mIn[3], line 1\u001b[0m\n\u001b[1;32m----> 1\u001b[0m \u001b[43mmain\u001b[49m\u001b[43m(\u001b[49m\u001b[43m)\u001b[49m\n",
      "Cell \u001b[1;32mIn[2], line 26\u001b[0m, in \u001b[0;36mmain\u001b[1;34m()\u001b[0m\n\u001b[0;32m     24\u001b[0m password \u001b[38;5;241m=\u001b[39m \u001b[38;5;28mint\u001b[39m(\u001b[38;5;28minput\u001b[39m(\u001b[38;5;124m'\u001b[39m\u001b[38;5;124menter your password :\u001b[39m\u001b[38;5;124m'\u001b[39m))\n\u001b[0;32m     25\u001b[0m \u001b[38;5;28;01mif\u001b[39;00m verify_admin_credentials:\n\u001b[1;32m---> 26\u001b[0m     \u001b[43madmin_menu\u001b[49m\u001b[43m(\u001b[49m\u001b[43madmin\u001b[49m\u001b[43m)\u001b[49m\n\u001b[0;32m     27\u001b[0m \u001b[38;5;28;01melse\u001b[39;00m:\n\u001b[0;32m     28\u001b[0m     \u001b[38;5;28mprint\u001b[39m(\u001b[38;5;124m'\u001b[39m\u001b[38;5;124mERROR : Invalid Credentials\u001b[39m\u001b[38;5;124m'\u001b[39m)\n",
      "Cell \u001b[1;32mIn[2], line 110\u001b[0m, in \u001b[0;36madmin_menu\u001b[1;34m(admin)\u001b[0m\n\u001b[0;32m    108\u001b[0m db \u001b[38;5;241m=\u001b[39m Database(db_name)\n\u001b[0;32m    109\u001b[0m voter_name \u001b[38;5;241m=\u001b[39m \u001b[38;5;28minput\u001b[39m(\u001b[38;5;124m'\u001b[39m\u001b[38;5;124menter your full name : \u001b[39m\u001b[38;5;124m'\u001b[39m)\n\u001b[1;32m--> 110\u001b[0m \u001b[38;5;28;01mif\u001b[39;00m \u001b[43mdb\u001b[49m\u001b[38;5;241;43m.\u001b[39;49m\u001b[43mdb_cursor\u001b[49m\u001b[38;5;241;43m.\u001b[39;49m\u001b[43mexecute\u001b[49m\u001b[43m(\u001b[49m\u001b[38;5;124;43m'''\u001b[39;49m\u001b[38;5;124;43minsert into voters (name) values (?)\u001b[39;49m\u001b[38;5;124;43m'''\u001b[39;49m\u001b[43m,\u001b[49m\u001b[43m[\u001b[49m\u001b[43mvoter_name\u001b[49m\u001b[43m]\u001b[49m\u001b[43m)\u001b[49m:\n\u001b[0;32m    111\u001b[0m     \u001b[38;5;28mprint\u001b[39m(\u001b[38;5;124m'\u001b[39m\u001b[38;5;124mName stored\u001b[39m\u001b[38;5;124m'\u001b[39m)\n\u001b[0;32m    112\u001b[0m \u001b[38;5;28;01melse\u001b[39;00m:\n",
      "\u001b[1;31mIntegrityError\u001b[0m: NOT NULL constraint failed: voters.date_of_birth"
     ]
    }
   ],
   "source": [
    "main()"
   ]
  },
  {
   "cell_type": "code",
   "execution_count": 2,
   "id": "30540b5d-87d9-4971-b81b-c3313ac704d9",
   "metadata": {},
   "outputs": [],
   "source": [
    "db_name ='voting_db.db'\n",
    "db = Database(db_name)\n",
    "data = db.db_cursor.execute('drop table constituency')\n"
   ]
  },
  {
   "cell_type": "code",
   "execution_count": 33,
   "id": "3a373937-893e-46e1-bb73-6667197c8c44",
   "metadata": {},
   "outputs": [
    {
     "name": "stdout",
     "output_type": "stream",
     "text": [
      "1 Pune\n"
     ]
    },
    {
     "name": "stdin",
     "output_type": "stream",
     "text": [
      " 1\n"
     ]
    },
    {
     "name": "stdout",
     "output_type": "stream",
     "text": [
      "[(1, 'Pune')]\n",
      "hello\n"
     ]
    }
   ],
   "source": [
    "db_name ='voting_db.db'\n",
    "db = Database(db_name)\n",
    "db.db_cursor.execute('select * from constituency')\n",
    "const = db.db_cursor.fetchall()\n",
    "for i in const:\n",
    "    print(f'{i[0]} {i[1]}')\n",
    "    enter = int(input())\n",
    "    db.db_cursor.execute('''select * from constituency''')\n",
    "    query = db.db_cursor.fetchall()\n",
    "    if enter in query[0]:\n",
    "        print('hello')\n",
    "    else:\n",
    "        print('bye')"
   ]
  },
  {
   "cell_type": "code",
   "execution_count": null,
   "id": "e8df4f02-f290-4558-95b7-b190480157a5",
   "metadata": {},
   "outputs": [],
   "source": []
  }
 ],
 "metadata": {
  "kernelspec": {
   "display_name": "Python 3 (ipykernel)",
   "language": "python",
   "name": "python3"
  },
  "language_info": {
   "codemirror_mode": {
    "name": "ipython",
    "version": 3
   },
   "file_extension": ".py",
   "mimetype": "text/x-python",
   "name": "python",
   "nbconvert_exporter": "python",
   "pygments_lexer": "ipython3",
   "version": "3.12.2"
  }
 },
 "nbformat": 4,
 "nbformat_minor": 5
}
