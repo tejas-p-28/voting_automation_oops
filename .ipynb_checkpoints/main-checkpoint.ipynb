{
 "cells": [
  {
   "cell_type": "code",
   "execution_count": 3,
   "id": "ee45199f-a89f-472d-9bb9-86092bb2929d",
   "metadata": {},
   "outputs": [],
   "source": [
    "from database.database import Database\n",
    "from admin.admin import Admin\n",
    "from voter.voter import Voter\n",
    "import datetime"
   ]
  },
  {
   "cell_type": "code",
   "execution_count": 4,
   "id": "1b7bd587-d847-4e91-a903-cfbe9d95600a",
   "metadata": {},
   "outputs": [],
   "source": [
    "def header():\n",
    "    today = datetime.date.today()\n",
    "    year = today.year\n",
    "    print('-'*80)\n",
    "    print('MAHARASHTRA LEGISLATIVE ASSEMBLY ELECTION 2024'.center(80))\n",
    "    print('Conducted by State Election Comission'.center(80)) \n",
    "    print(str(year).center(80))\n",
    "    print('-'*80)\n",
    "def main():\n",
    "    db_name = 'voting_db.db'\n",
    "    db = Database(db_name)\n",
    "    db.create_tables()\n",
    "    admin = Admin(db_name)\n",
    "    voter = Voter(db_name)\n",
    "    admin.add_admin('tejas',123)\n",
    "    header()\n",
    "    max_retry = 3\n",
    "    for i in range(max_retry):\n",
    "        print('Press :')\n",
    "        print('\\n1. If you are ADMIN : \\n2. If you are VOTER : \\n. to EXIT :')\n",
    "        ch = int(input('enter your choice : '))\n",
    "        if ch ==1 :\n",
    "            username = input('enter your username :')\n",
    "            password = int(input('enter your password :'))\n",
    "            if verify_admin_credentials:\n",
    "                print('logged in...')\n",
    "            else:\n",
    "                print('ERROR : Invalid Credentials')\n",
    "\n",
    "def verify_admin_credentials(self,username,password):\n",
    "    db_name 'voting_db.db'\n",
    "    db = Database(db_name)\n",
    "    db.db_cursor.execute('''select * from admin where username = ? and password = ?''',(username,password))\n",
    "    admin_data = db,db_cursor.fetchone()\n",
    "    if admin_data:\n",
    "        return True\n",
    "    else:\n",
    "        print('ERROR : No admin found with this details')\n",
    "        return False\n",
    "        \n",
    "    "
   ]
  },
  {
   "cell_type": "code",
   "execution_count": 5,
   "id": "02f8a475-cc4e-4b1c-a74d-a2f92698dd9c",
   "metadata": {},
   "outputs": [
    {
     "name": "stdout",
     "output_type": "stream",
     "text": [
      "--------------------------------------------------------------------------------\n",
      "                 MAHARASHTRA LEGISLATIVE ASSEMBLY ELECTION 2024                 \n",
      "                     Conducted by State Election Comission                      \n",
      "                                      2024                                      \n",
      "--------------------------------------------------------------------------------\n",
      "Press :\n",
      "\n",
      "1. If you are ADMIN : \n",
      "2. If you are VOTER : \n",
      ". to EXIT :\n",
      "Press :\n",
      "\n",
      "1. If you are ADMIN : \n",
      "2. If you are VOTER : \n",
      ". to EXIT :\n",
      "Press :\n",
      "\n",
      "1. If you are ADMIN : \n",
      "2. If you are VOTER : \n",
      ". to EXIT :\n"
     ]
    }
   ],
   "source": [
    "main()"
   ]
  },
  {
   "cell_type": "code",
   "execution_count": null,
   "id": "5cc80f4c-95df-47b2-a49b-89d519f55e44",
   "metadata": {},
   "outputs": [],
   "source": []
  }
 ],
 "metadata": {
  "kernelspec": {
   "display_name": "Python 3 (ipykernel)",
   "language": "python",
   "name": "python3"
  },
  "language_info": {
   "codemirror_mode": {
    "name": "ipython",
    "version": 3
   },
   "file_extension": ".py",
   "mimetype": "text/x-python",
   "name": "python",
   "nbconvert_exporter": "python",
   "pygments_lexer": "ipython3",
   "version": "3.12.2"
  }
 },
 "nbformat": 4,
 "nbformat_minor": 5
}
